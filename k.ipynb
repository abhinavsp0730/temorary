{
 "cells": [
  {
   "cell_type": "markdown",
   "metadata": {},
   "source": [
    "<table class=\"notebook-buttons\" align=\"left\">\n",
    " <td>\n",
    "    <a target=\"_blank\" href=\"https://colab.research.google.com/github/d2l-ai/textbook-solutions/blob/master/Solutions/18.%20Appendix%20Mathematics%20for%20Deep%20Learning/18.3.%20Single%20Variable%20Calculus.ipynb\">\n",
    "    <img src=\"https://colab.research.google.com/assets/colab-badge.svg\" />   adasd </a>\n",
    "  </td>\n",
    "</table>\n",
    "  "
   ]
  },
  {
   "cell_type": "markdown",
   "metadata": {},
   "source": [
    "<table class=\"tfo-notebook-buttons\" align=\"left\">\n",
    "  <td>\n",
    "    <a target=\"_blank\" href=\"https://colab.research.google.com/github/d2l-ai/textbook-solutions/blob/master/Solutions/18.%20Appendix%20Mathematics%20for%20Deep%20Learning/18.3.%20Single%20Variable%20Calculus.ipynb\"><img src=\"https://colab.research.google.com/assets/colab-badge.svg\" />  Open in Colab          </a>\n",
    "  </td>"
   ]
  },
  {
   "cell_type": "code",
   "execution_count": null,
   "metadata": {},
   "outputs": [],
   "source": []
  }
 ],
 "metadata": {
  "kernelspec": {
   "display_name": "Python 3",
   "language": "python",
   "name": "python3"
  },
  "language_info": {
   "codemirror_mode": {
    "name": "ipython",
    "version": 3
   },
   "file_extension": ".py",
   "mimetype": "text/x-python",
   "name": "python",
   "nbconvert_exporter": "python",
   "pygments_lexer": "ipython3",
   "version": "3.8.2"
  }
 },
 "nbformat": 4,
 "nbformat_minor": 4
}
